{
 "cells": [
  {
   "cell_type": "markdown",
   "metadata": {},
   "source": [
    "# Model 2"
   ]
  },
  {
   "cell_type": "markdown",
   "metadata": {},
   "source": [
    "### Import packages"
   ]
  },
  {
   "cell_type": "code",
   "execution_count": 1,
   "metadata": {},
   "outputs": [
    {
     "name": "stderr",
     "output_type": "stream",
     "text": [
      "Using TensorFlow backend.\n"
     ]
    }
   ],
   "source": [
    "import numpy as np\n",
    "import matplotlib.pyplot as plt\n",
    "import pandas as pd\n",
    "from sklearn.model_selection import train_test_split\n",
    "from sklearn.preprocessing import StandardScaler\n",
    "from sklearn.preprocessing import LabelEncoder\n",
    "from keras.models import load_model\n",
    "from keras.models import Sequential\n",
    "from keras.layers import Dense\n",
    "from keras.models import load_model"
   ]
  },
  {
   "cell_type": "markdown",
   "metadata": {},
   "source": [
    "### Read Dataset"
   ]
  },
  {
   "cell_type": "code",
   "execution_count": 2,
   "metadata": {},
   "outputs": [],
   "source": [
    "df = pd.read_csv('../input/breast-cancer-wisconsin.csv');"
   ]
  },
  {
   "cell_type": "markdown",
   "metadata": {},
   "source": [
    "### Data Preprocessing"
   ]
  },
  {
   "cell_type": "code",
   "execution_count": 3,
   "metadata": {},
   "outputs": [],
   "source": [
    "X = df.iloc[:,2:32]\n",
    "y = df.iloc[:,1]\n",
    "labelencoder_Y = LabelEncoder()\n",
    "y = labelencoder_Y.fit_transform(y)\n",
    "X_train, X_test, y_train, y_test = train_test_split(X, y, test_size = 0.2, random_state = 0)\n",
    "sc = StandardScaler()\n",
    "X_train = sc.fit_transform(X_train)\n",
    "X_test = sc.transform(X_test)"
   ]
  },
  {
   "cell_type": "markdown",
   "metadata": {},
   "source": [
    "### Neural net initialization with layers"
   ]
  },
  {
   "cell_type": "code",
   "execution_count": 12,
   "metadata": {},
   "outputs": [],
   "source": [
    "classifier = Sequential()\n",
    "classifier.add(Dense(units = 8, kernel_initializer = 'uniform', activation = 'relu', input_dim = 30))\n",
    "classifier.add(Dense(units = 4, kernel_initializer = 'uniform', activation = 'relu'))\n",
    "classifier.add(Dense(units = 1, kernel_initializer = 'uniform', activation = 'sigmoid'))\n",
    "classifier.compile(optimizer = 'sgd', loss = 'binary_crossentropy', metrics = ['accuracy'])"
   ]
  },
  {
   "cell_type": "markdown",
   "metadata": {},
   "source": [
    "### Fitting and saving results"
   ]
  },
  {
   "cell_type": "code",
   "execution_count": 13,
   "metadata": {
    "scrolled": true
   },
   "outputs": [
    {
     "name": "stdout",
     "output_type": "stream",
     "text": [
      "Epoch 1/50\n",
      "455/455 [==============================] - 0s 1ms/step - loss: 0.6704 - acc: 0.6308\n",
      "Epoch 2/50\n",
      "455/455 [==============================] - 0s 632us/step - loss: 0.6574 - acc: 0.6374\n",
      "Epoch 3/50\n",
      "455/455 [==============================] - 0s 603us/step - loss: 0.6555 - acc: 0.6374\n",
      "Epoch 4/50\n",
      "455/455 [==============================] - 0s 640us/step - loss: 0.6539 - acc: 0.6374\n",
      "Epoch 5/50\n",
      "455/455 [==============================] - 0s 656us/step - loss: 0.6441 - acc: 0.6374\n",
      "Epoch 6/50\n",
      "455/455 [==============================] - 0s 673us/step - loss: 0.4747 - acc: 0.8132\n",
      "Epoch 7/50\n",
      "455/455 [==============================] - 0s 732us/step - loss: 0.1849 - acc: 0.9604\n",
      "Epoch 8/50\n",
      "455/455 [==============================] - 0s 710us/step - loss: 0.0964 - acc: 0.9736\n",
      "Epoch 9/50\n",
      "455/455 [==============================] - 0s 642us/step - loss: 0.0764 - acc: 0.9802\n",
      "Epoch 10/50\n",
      "455/455 [==============================] - 0s 690us/step - loss: 0.0687 - acc: 0.9802\n",
      "Epoch 11/50\n",
      "455/455 [==============================] - 0s 616us/step - loss: 0.0636 - acc: 0.9868\n",
      "Epoch 12/50\n",
      "455/455 [==============================] - 0s 606us/step - loss: 0.0590 - acc: 0.9846\n",
      "Epoch 13/50\n",
      "455/455 [==============================] - 0s 701us/step - loss: 0.0567 - acc: 0.9890\n",
      "Epoch 14/50\n",
      "455/455 [==============================] - 0s 624us/step - loss: 0.0544 - acc: 0.9890\n",
      "Epoch 15/50\n",
      "455/455 [==============================] - 0s 609us/step - loss: 0.0524 - acc: 0.9890\n",
      "Epoch 16/50\n",
      "455/455 [==============================] - 0s 606us/step - loss: 0.0505 - acc: 0.9890\n",
      "Epoch 17/50\n",
      "455/455 [==============================] - 0s 610us/step - loss: 0.0492 - acc: 0.9890\n",
      "Epoch 18/50\n",
      "455/455 [==============================] - 0s 614us/step - loss: 0.0469 - acc: 0.9912\n",
      "Epoch 19/50\n",
      "455/455 [==============================] - 0s 614us/step - loss: 0.0448 - acc: 0.9890\n",
      "Epoch 20/50\n",
      "455/455 [==============================] - 0s 607us/step - loss: 0.0444 - acc: 0.9868\n",
      "Epoch 21/50\n",
      "455/455 [==============================] - 0s 598us/step - loss: 0.0430 - acc: 0.9890\n",
      "Epoch 22/50\n",
      "455/455 [==============================] - 0s 598us/step - loss: 0.0402 - acc: 0.9890\n",
      "Epoch 23/50\n",
      "455/455 [==============================] - 0s 597us/step - loss: 0.0389 - acc: 0.9912\n",
      "Epoch 24/50\n",
      "455/455 [==============================] - 0s 614us/step - loss: 0.0385 - acc: 0.9890\n",
      "Epoch 25/50\n",
      "455/455 [==============================] - 0s 609us/step - loss: 0.0684 - acc: 0.9780\n",
      "Epoch 26/50\n",
      "455/455 [==============================] - 0s 596us/step - loss: 0.0395 - acc: 0.9890\n",
      "Epoch 27/50\n",
      "455/455 [==============================] - 0s 596us/step - loss: 0.0361 - acc: 0.9912\n",
      "Epoch 28/50\n",
      "455/455 [==============================] - 0s 611us/step - loss: 0.0340 - acc: 0.9912\n",
      "Epoch 29/50\n",
      "455/455 [==============================] - 0s 607us/step - loss: 0.0310 - acc: 0.9912\n",
      "Epoch 30/50\n",
      "455/455 [==============================] - 0s 613us/step - loss: 0.0306 - acc: 0.9912\n",
      "Epoch 31/50\n",
      "455/455 [==============================] - 0s 631us/step - loss: 0.0293 - acc: 0.9912\n",
      "Epoch 32/50\n",
      "455/455 [==============================] - 0s 619us/step - loss: 0.0277 - acc: 0.9912\n",
      "Epoch 33/50\n",
      "455/455 [==============================] - 0s 610us/step - loss: 0.0260 - acc: 0.9912\n",
      "Epoch 34/50\n",
      "455/455 [==============================] - 0s 681us/step - loss: 0.0260 - acc: 0.9912\n",
      "Epoch 35/50\n",
      "455/455 [==============================] - 0s 637us/step - loss: 0.0251 - acc: 0.9912\n",
      "Epoch 36/50\n",
      "455/455 [==============================] - 0s 631us/step - loss: 0.0235 - acc: 0.9912\n",
      "Epoch 37/50\n",
      "455/455 [==============================] - 0s 650us/step - loss: 0.0234 - acc: 0.9934\n",
      "Epoch 38/50\n",
      "455/455 [==============================] - 0s 627us/step - loss: 0.0235 - acc: 0.9912\n",
      "Epoch 39/50\n",
      "455/455 [==============================] - 0s 652us/step - loss: 0.0214 - acc: 0.9912\n",
      "Epoch 40/50\n",
      "455/455 [==============================] - 0s 650us/step - loss: 0.0198 - acc: 0.9934\n",
      "Epoch 41/50\n",
      "455/455 [==============================] - 0s 684us/step - loss: 0.0398 - acc: 0.9846\n",
      "Epoch 42/50\n",
      "455/455 [==============================] - 0s 643us/step - loss: 0.0618 - acc: 0.9802\n",
      "Epoch 43/50\n",
      "455/455 [==============================] - 0s 698us/step - loss: 0.0275 - acc: 0.9890\n",
      "Epoch 44/50\n",
      "455/455 [==============================] - 0s 664us/step - loss: 0.0218 - acc: 0.9934\n",
      "Epoch 45/50\n",
      "455/455 [==============================] - 0s 673us/step - loss: 0.0196 - acc: 0.9934\n",
      "Epoch 46/50\n",
      "455/455 [==============================] - 0s 619us/step - loss: 0.0183 - acc: 0.9934\n",
      "Epoch 47/50\n",
      "455/455 [==============================] - 0s 631us/step - loss: 0.0176 - acc: 0.9934\n",
      "Epoch 48/50\n",
      "455/455 [==============================] - 0s 626us/step - loss: 0.0166 - acc: 0.9934\n",
      "Epoch 49/50\n",
      "455/455 [==============================] - 0s 626us/step - loss: 0.0162 - acc: 0.9934\n",
      "Epoch 50/50\n",
      "455/455 [==============================] - 0s 638us/step - loss: 0.0154 - acc: 0.9934\n"
     ]
    },
    {
     "data": {
      "text/plain": [
       "<keras.callbacks.History at 0x135976978>"
      ]
     },
     "execution_count": 13,
     "metadata": {},
     "output_type": "execute_result"
    }
   ],
   "source": [
    "classifier.fit(X_train, y_train, batch_size = 1, epochs = 50)\n",
    "classifier.save('model_2.h5')"
   ]
  }
 ],
 "metadata": {
  "kernelspec": {
   "display_name": "Python 3",
   "language": "python",
   "name": "python3"
  },
  "language_info": {
   "codemirror_mode": {
    "name": "ipython",
    "version": 3
   },
   "file_extension": ".py",
   "mimetype": "text/x-python",
   "name": "python",
   "nbconvert_exporter": "python",
   "pygments_lexer": "ipython3",
   "version": "3.7.3"
  }
 },
 "nbformat": 4,
 "nbformat_minor": 2
}
