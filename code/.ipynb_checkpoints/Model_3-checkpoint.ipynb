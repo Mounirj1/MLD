{
 "cells": [
  {
   "cell_type": "markdown",
   "metadata": {},
   "source": [
    "# Model 3"
   ]
  },
  {
   "cell_type": "markdown",
   "metadata": {},
   "source": [
    "### Import packages"
   ]
  },
  {
   "cell_type": "code",
   "execution_count": 2,
   "metadata": {},
   "outputs": [
    {
     "name": "stderr",
     "output_type": "stream",
     "text": [
      "Using TensorFlow backend.\n"
     ]
    }
   ],
   "source": [
    "import numpy as np\n",
    "import matplotlib.pyplot as plt\n",
    "import pandas as pd\n",
    "from sklearn.model_selection import train_test_split\n",
    "from sklearn.preprocessing import StandardScaler\n",
    "from sklearn.preprocessing import LabelEncoder\n",
    "from keras.models import load_model\n",
    "from keras.models import Sequential\n",
    "from keras.layers import Dense\n",
    "from keras.models import load_model"
   ]
  },
  {
   "cell_type": "markdown",
   "metadata": {},
   "source": [
    "### Read Dataset"
   ]
  },
  {
   "cell_type": "code",
   "execution_count": 3,
   "metadata": {},
   "outputs": [],
   "source": [
    "df = pd.read_csv('../input/breast-cancer-wisconsin.csv');"
   ]
  },
  {
   "cell_type": "markdown",
   "metadata": {},
   "source": [
    "### Data Preprocessing"
   ]
  },
  {
   "cell_type": "code",
   "execution_count": 4,
   "metadata": {},
   "outputs": [],
   "source": [
    "X = df.iloc[:,2:32]\n",
    "y = df.iloc[:,1]\n",
    "labelencoder_Y = LabelEncoder()\n",
    "y = labelencoder_Y.fit_transform(y)\n",
    "X_train, X_test, y_train, y_test = train_test_split(X, y, test_size = 0.2, random_state = 0)\n",
    "sc = StandardScaler()\n",
    "X_train = sc.fit_transform(X_train)\n",
    "X_test = sc.transform(X_test)"
   ]
  },
  {
   "cell_type": "markdown",
   "metadata": {},
   "source": [
    "### Neural net initialization with layers"
   ]
  },
  {
   "cell_type": "code",
   "execution_count": 5,
   "metadata": {},
   "outputs": [
    {
     "name": "stdout",
     "output_type": "stream",
     "text": [
      "WARNING:tensorflow:From /usr/local/lib/python3.7/site-packages/tensorflow/python/framework/op_def_library.py:263: colocate_with (from tensorflow.python.framework.ops) is deprecated and will be removed in a future version.\n",
      "Instructions for updating:\n",
      "Colocations handled automatically by placer.\n"
     ]
    }
   ],
   "source": [
    "classifier = Sequential()\n",
    "classifier.add(Dense(units = 16, kernel_initializer = 'uniform', activation = 'relu', input_dim = 30))\n",
    "classifier.add(Dense(units = 8, kernel_initializer = 'uniform', activation = 'relu'))\n",
    "classifier.add(Dense(units = 1, kernel_initializer = 'uniform', activation = 'sigmoid'))\n",
    "classifier.compile(optimizer = 'rmsprop', loss = 'binary_crossentropy', metrics = ['accuracy'])"
   ]
  },
  {
   "cell_type": "markdown",
   "metadata": {},
   "source": [
    "### Fitting and saving results"
   ]
  },
  {
   "cell_type": "code",
   "execution_count": 8,
   "metadata": {
    "scrolled": true
   },
   "outputs": [
    {
     "name": "stdout",
     "output_type": "stream",
     "text": [
      "Epoch 1/100\n",
      "455/455 [==============================] - 0s 698us/step - loss: 0.0404 - acc: 0.9912\n",
      "Epoch 2/100\n",
      "455/455 [==============================] - 0s 734us/step - loss: 0.0417 - acc: 0.9912\n",
      "Epoch 3/100\n",
      "455/455 [==============================] - 0s 702us/step - loss: 0.0429 - acc: 0.9912\n",
      "Epoch 4/100\n",
      "455/455 [==============================] - 0s 695us/step - loss: 0.0405 - acc: 0.9912\n",
      "Epoch 5/100\n",
      "455/455 [==============================] - 0s 716us/step - loss: 0.0415 - acc: 0.9912\n",
      "Epoch 6/100\n",
      "455/455 [==============================] - 0s 708us/step - loss: 0.0384 - acc: 0.9912\n",
      "Epoch 7/100\n",
      "455/455 [==============================] - 0s 685us/step - loss: 0.0369 - acc: 0.9912\n",
      "Epoch 8/100\n",
      "455/455 [==============================] - 0s 803us/step - loss: 0.0370 - acc: 0.9912\n",
      "Epoch 9/100\n",
      "455/455 [==============================] - 0s 699us/step - loss: 0.0310 - acc: 0.9934\n",
      "Epoch 10/100\n",
      "455/455 [==============================] - 0s 727us/step - loss: 0.0379 - acc: 0.9912\n",
      "Epoch 11/100\n",
      "455/455 [==============================] - 0s 775us/step - loss: 0.0379 - acc: 0.9912\n",
      "Epoch 12/100\n",
      "455/455 [==============================] - 0s 738us/step - loss: 0.0367 - acc: 0.9912\n",
      "Epoch 13/100\n",
      "455/455 [==============================] - 0s 723us/step - loss: 0.0365 - acc: 0.9912\n",
      "Epoch 14/100\n",
      "455/455 [==============================] - 0s 744us/step - loss: 0.0443 - acc: 0.9890\n",
      "Epoch 15/100\n",
      "455/455 [==============================] - 0s 677us/step - loss: 0.0368 - acc: 0.9912\n",
      "Epoch 16/100\n",
      "455/455 [==============================] - 0s 753us/step - loss: 0.0412 - acc: 0.9912\n",
      "Epoch 17/100\n",
      "455/455 [==============================] - 0s 766us/step - loss: 0.0345 - acc: 0.9934\n",
      "Epoch 18/100\n",
      "455/455 [==============================] - 0s 694us/step - loss: 0.0362 - acc: 0.9912\n",
      "Epoch 19/100\n",
      "455/455 [==============================] - 0s 712us/step - loss: 0.0325 - acc: 0.9912\n",
      "Epoch 20/100\n",
      "455/455 [==============================] - 0s 674us/step - loss: 0.0344 - acc: 0.9912\n",
      "Epoch 21/100\n",
      "455/455 [==============================] - 0s 719us/step - loss: 0.0401 - acc: 0.9912\n",
      "Epoch 22/100\n",
      "455/455 [==============================] - 0s 682us/step - loss: 0.0483 - acc: 0.9890\n",
      "Epoch 23/100\n",
      "455/455 [==============================] - 0s 685us/step - loss: 0.0367 - acc: 0.9934\n",
      "Epoch 24/100\n",
      "455/455 [==============================] - 0s 737us/step - loss: 0.0352 - acc: 0.9934\n",
      "Epoch 25/100\n",
      "455/455 [==============================] - 0s 711us/step - loss: 0.0386 - acc: 0.9934A: 0s - loss: 0.0399 - acc: 0.993\n",
      "Epoch 26/100\n",
      "455/455 [==============================] - 0s 757us/step - loss: 0.0387 - acc: 0.9912\n",
      "Epoch 27/100\n",
      "455/455 [==============================] - 0s 765us/step - loss: 0.0375 - acc: 0.9912\n",
      "Epoch 28/100\n",
      "455/455 [==============================] - 0s 650us/step - loss: 0.0343 - acc: 0.9934\n",
      "Epoch 29/100\n",
      "455/455 [==============================] - 0s 658us/step - loss: 0.0382 - acc: 0.9934\n",
      "Epoch 30/100\n",
      "455/455 [==============================] - 0s 662us/step - loss: 0.0397 - acc: 0.9912\n",
      "Epoch 31/100\n",
      "455/455 [==============================] - 0s 654us/step - loss: 0.0420 - acc: 0.9934\n",
      "Epoch 32/100\n",
      "455/455 [==============================] - 0s 713us/step - loss: 0.0318 - acc: 0.9956\n",
      "Epoch 33/100\n",
      "455/455 [==============================] - 0s 674us/step - loss: 0.0462 - acc: 0.9912\n",
      "Epoch 34/100\n",
      "455/455 [==============================] - 0s 715us/step - loss: 0.0435 - acc: 0.9934\n",
      "Epoch 35/100\n",
      "455/455 [==============================] - 0s 677us/step - loss: 0.0445 - acc: 0.9934\n",
      "Epoch 36/100\n",
      "455/455 [==============================] - 0s 690us/step - loss: 0.0403 - acc: 0.9934\n",
      "Epoch 37/100\n",
      "455/455 [==============================] - 0s 704us/step - loss: 0.0376 - acc: 0.9956\n",
      "Epoch 38/100\n",
      "455/455 [==============================] - 0s 742us/step - loss: 0.0364 - acc: 0.9934\n",
      "Epoch 39/100\n",
      "455/455 [==============================] - 0s 690us/step - loss: 0.0322 - acc: 0.9934\n",
      "Epoch 40/100\n",
      "455/455 [==============================] - 0s 724us/step - loss: 0.0325 - acc: 0.9956\n",
      "Epoch 41/100\n",
      "455/455 [==============================] - 0s 728us/step - loss: 0.0357 - acc: 0.9956\n",
      "Epoch 42/100\n",
      "455/455 [==============================] - 0s 800us/step - loss: 0.0387 - acc: 0.9934\n",
      "Epoch 43/100\n",
      "455/455 [==============================] - 0s 739us/step - loss: 0.0490 - acc: 0.9912\n",
      "Epoch 44/100\n",
      "455/455 [==============================] - 0s 747us/step - loss: 0.0387 - acc: 0.9934\n",
      "Epoch 45/100\n",
      "455/455 [==============================] - 0s 731us/step - loss: 0.0325 - acc: 0.9934\n",
      "Epoch 46/100\n",
      "455/455 [==============================] - 0s 738us/step - loss: 0.0315 - acc: 0.9956\n",
      "Epoch 47/100\n",
      "455/455 [==============================] - 0s 826us/step - loss: 0.0384 - acc: 0.9934\n",
      "Epoch 48/100\n",
      "455/455 [==============================] - 0s 796us/step - loss: 0.0316 - acc: 0.9956\n",
      "Epoch 49/100\n",
      "455/455 [==============================] - 0s 763us/step - loss: 0.0294 - acc: 0.9956\n",
      "Epoch 50/100\n",
      "455/455 [==============================] - 0s 654us/step - loss: 0.0416 - acc: 0.9934\n",
      "Epoch 51/100\n",
      "455/455 [==============================] - 0s 655us/step - loss: 0.0341 - acc: 0.9956\n",
      "Epoch 52/100\n",
      "455/455 [==============================] - 0s 659us/step - loss: 0.0315 - acc: 0.9956\n",
      "Epoch 53/100\n",
      "455/455 [==============================] - 0s 741us/step - loss: 0.0299 - acc: 0.9956\n",
      "Epoch 54/100\n",
      "455/455 [==============================] - 0s 705us/step - loss: 0.0363 - acc: 0.9934\n",
      "Epoch 55/100\n",
      "455/455 [==============================] - 0s 687us/step - loss: 0.0324 - acc: 0.9956\n",
      "Epoch 56/100\n",
      "455/455 [==============================] - 0s 705us/step - loss: 0.0319 - acc: 0.9956\n",
      "Epoch 57/100\n",
      "455/455 [==============================] - 0s 717us/step - loss: 0.0300 - acc: 0.9956\n",
      "Epoch 58/100\n",
      "455/455 [==============================] - 0s 658us/step - loss: 0.0465 - acc: 0.9934\n",
      "Epoch 59/100\n",
      "455/455 [==============================] - 0s 652us/step - loss: 0.0393 - acc: 0.9934\n",
      "Epoch 60/100\n",
      "455/455 [==============================] - 0s 658us/step - loss: 0.0353 - acc: 0.9934\n",
      "Epoch 61/100\n",
      "455/455 [==============================] - 0s 652us/step - loss: 0.0331 - acc: 0.9934\n",
      "Epoch 62/100\n",
      "455/455 [==============================] - 0s 651us/step - loss: 0.0337 - acc: 0.9956\n",
      "Epoch 63/100\n",
      "455/455 [==============================] - 0s 664us/step - loss: 0.0500 - acc: 0.9912\n",
      "Epoch 64/100\n",
      "455/455 [==============================] - 0s 648us/step - loss: 0.0389 - acc: 0.9956\n",
      "Epoch 65/100\n",
      "455/455 [==============================] - 0s 742us/step - loss: 0.0328 - acc: 0.9956\n",
      "Epoch 66/100\n",
      "455/455 [==============================] - 0s 716us/step - loss: 0.0413 - acc: 0.9956\n",
      "Epoch 67/100\n",
      "455/455 [==============================] - 0s 691us/step - loss: 0.0366 - acc: 0.9956\n",
      "Epoch 68/100\n",
      "455/455 [==============================] - 0s 740us/step - loss: 0.0336 - acc: 0.9956\n",
      "Epoch 69/100\n",
      "455/455 [==============================] - 0s 680us/step - loss: 0.0328 - acc: 0.9956\n",
      "Epoch 70/100\n",
      "455/455 [==============================] - 0s 659us/step - loss: 0.0341 - acc: 0.9956\n",
      "Epoch 71/100\n",
      "455/455 [==============================] - 0s 665us/step - loss: 0.0318 - acc: 0.9956\n",
      "Epoch 72/100\n",
      "455/455 [==============================] - 0s 661us/step - loss: 0.0388 - acc: 0.9934\n",
      "Epoch 73/100\n",
      "455/455 [==============================] - 0s 680us/step - loss: 0.0368 - acc: 0.9956\n",
      "Epoch 74/100\n",
      "455/455 [==============================] - 0s 658us/step - loss: 0.0321 - acc: 0.9956\n",
      "Epoch 75/100\n",
      "455/455 [==============================] - 0s 740us/step - loss: 0.0397 - acc: 0.9934\n",
      "Epoch 76/100\n",
      "455/455 [==============================] - 0s 670us/step - loss: 0.0432 - acc: 0.9956\n",
      "Epoch 77/100\n",
      "455/455 [==============================] - 0s 700us/step - loss: 0.0359 - acc: 0.9956\n",
      "Epoch 78/100\n",
      "455/455 [==============================] - 0s 673us/step - loss: 0.0438 - acc: 0.9934\n",
      "Epoch 79/100\n",
      "455/455 [==============================] - 0s 696us/step - loss: 0.0377 - acc: 0.9956\n",
      "Epoch 80/100\n",
      "455/455 [==============================] - 0s 657us/step - loss: 0.0414 - acc: 0.9956\n",
      "Epoch 81/100\n",
      "455/455 [==============================] - 0s 679us/step - loss: 0.0422 - acc: 0.9956\n",
      "Epoch 82/100\n",
      "455/455 [==============================] - 0s 677us/step - loss: 0.0438 - acc: 0.9956\n",
      "Epoch 83/100\n"
     ]
    },
    {
     "name": "stdout",
     "output_type": "stream",
     "text": [
      "455/455 [==============================] - 0s 655us/step - loss: 0.0388 - acc: 0.9956\n",
      "Epoch 84/100\n",
      "455/455 [==============================] - 0s 654us/step - loss: 0.0457 - acc: 0.9934\n",
      "Epoch 85/100\n",
      "455/455 [==============================] - 0s 647us/step - loss: 0.0391 - acc: 0.9956\n",
      "Epoch 86/100\n",
      "455/455 [==============================] - 0s 654us/step - loss: 0.0365 - acc: 0.9956\n",
      "Epoch 87/100\n",
      "455/455 [==============================] - 0s 666us/step - loss: 0.0420 - acc: 0.9956\n",
      "Epoch 88/100\n",
      "455/455 [==============================] - 0s 657us/step - loss: 0.0382 - acc: 0.9956\n",
      "Epoch 89/100\n",
      "455/455 [==============================] - 0s 652us/step - loss: 0.0380 - acc: 0.9956\n",
      "Epoch 90/100\n",
      "455/455 [==============================] - 0s 651us/step - loss: 0.0391 - acc: 0.9956\n",
      "Epoch 91/100\n",
      "455/455 [==============================] - 0s 651us/step - loss: 0.0353 - acc: 0.9956\n",
      "Epoch 92/100\n",
      "455/455 [==============================] - 0s 681us/step - loss: 0.0428 - acc: 0.9956\n",
      "Epoch 93/100\n",
      "455/455 [==============================] - 0s 651us/step - loss: 0.0354 - acc: 0.9956\n",
      "Epoch 94/100\n",
      "455/455 [==============================] - 0s 651us/step - loss: 0.0386 - acc: 0.9956\n",
      "Epoch 95/100\n",
      "455/455 [==============================] - 0s 706us/step - loss: 0.0393 - acc: 0.9956\n",
      "Epoch 96/100\n",
      "455/455 [==============================] - 0s 720us/step - loss: 0.0399 - acc: 0.9956\n",
      "Epoch 97/100\n",
      "455/455 [==============================] - 0s 681us/step - loss: 0.0409 - acc: 0.9956\n",
      "Epoch 98/100\n",
      "455/455 [==============================] - 0s 698us/step - loss: 0.0445 - acc: 0.9934\n",
      "Epoch 99/100\n",
      "455/455 [==============================] - 0s 731us/step - loss: 0.0403 - acc: 0.9956\n",
      "Epoch 100/100\n",
      "455/455 [==============================] - 0s 671us/step - loss: 0.0430 - acc: 0.9956\n"
     ]
    }
   ],
   "source": [
    "classifier.fit(X_train, y_train, batch_size = 1, epochs = 100)\n",
    "classifier.save('model_3.h5')"
   ]
  }
 ],
 "metadata": {
  "kernelspec": {
   "display_name": "Python 3",
   "language": "python",
   "name": "python3"
  },
  "language_info": {
   "codemirror_mode": {
    "name": "ipython",
    "version": 3
   },
   "file_extension": ".py",
   "mimetype": "text/x-python",
   "name": "python",
   "nbconvert_exporter": "python",
   "pygments_lexer": "ipython3",
   "version": "3.7.3"
  }
 },
 "nbformat": 4,
 "nbformat_minor": 2
}
