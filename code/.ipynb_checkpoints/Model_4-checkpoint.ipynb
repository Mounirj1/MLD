{
 "cells": [
  {
   "cell_type": "markdown",
   "metadata": {},
   "source": [
    "# Model 4"
   ]
  },
  {
   "cell_type": "markdown",
   "metadata": {},
   "source": [
    "### Import packages"
   ]
  },
  {
   "cell_type": "code",
   "execution_count": 1,
   "metadata": {},
   "outputs": [
    {
     "name": "stderr",
     "output_type": "stream",
     "text": [
      "Using TensorFlow backend.\n"
     ]
    }
   ],
   "source": [
    "import numpy as np\n",
    "import matplotlib.pyplot as plt\n",
    "import pandas as pd\n",
    "from sklearn.model_selection import train_test_split\n",
    "from sklearn.preprocessing import StandardScaler\n",
    "from sklearn.preprocessing import LabelEncoder\n",
    "from keras.models import load_model\n",
    "from keras.models import Sequential\n",
    "from keras.layers import Dense\n",
    "from keras.models import load_model"
   ]
  },
  {
   "cell_type": "markdown",
   "metadata": {},
   "source": [
    "### Read Dataset"
   ]
  },
  {
   "cell_type": "code",
   "execution_count": 2,
   "metadata": {},
   "outputs": [],
   "source": [
    "df = pd.read_csv('../input/breast-cancer-wisconsin.csv');"
   ]
  },
  {
   "cell_type": "markdown",
   "metadata": {},
   "source": [
    "### Data Preprocessing"
   ]
  },
  {
   "cell_type": "code",
   "execution_count": 3,
   "metadata": {},
   "outputs": [],
   "source": [
    "X = df.iloc[:,2:32]\n",
    "y = df.iloc[:,1]\n",
    "labelencoder_Y = LabelEncoder()\n",
    "y = labelencoder_Y.fit_transform(y)\n",
    "X_train, X_test, y_train, y_test = train_test_split(X, y, test_size = 0.2, random_state = 0)\n",
    "sc = StandardScaler()\n",
    "X_train = sc.fit_transform(X_train)\n",
    "X_test = sc.transform(X_test)"
   ]
  },
  {
   "cell_type": "markdown",
   "metadata": {},
   "source": [
    "### Neural net initialization with layers"
   ]
  },
  {
   "cell_type": "code",
   "execution_count": 4,
   "metadata": {},
   "outputs": [
    {
     "name": "stdout",
     "output_type": "stream",
     "text": [
      "WARNING:tensorflow:From /usr/local/lib/python3.7/site-packages/tensorflow/python/framework/op_def_library.py:263: colocate_with (from tensorflow.python.framework.ops) is deprecated and will be removed in a future version.\n",
      "Instructions for updating:\n",
      "Colocations handled automatically by placer.\n"
     ]
    }
   ],
   "source": [
    "classifier = Sequential()\n",
    "classifier.add(Dense(units = 16, kernel_initializer = 'uniform', activation = 'relu', input_dim = 30))\n",
    "classifier.add(Dense(units = 8, kernel_initializer = 'uniform', activation = 'tanh'))\n",
    "classifier.add(Dense(units = 8, kernel_initializer = 'uniform', activation = 'relu'))\n",
    "classifier.add(Dense(units = 1, kernel_initializer = 'uniform', activation = 'sigmoid'))\n",
    "classifier.compile(optimizer = 'rmsprop', loss = 'binary_crossentropy', metrics = ['accuracy'])"
   ]
  },
  {
   "cell_type": "markdown",
   "metadata": {},
   "source": [
    "### Fitting and saving results"
   ]
  },
  {
   "cell_type": "code",
   "execution_count": 5,
   "metadata": {
    "scrolled": true
   },
   "outputs": [
    {
     "name": "stdout",
     "output_type": "stream",
     "text": [
      "WARNING:tensorflow:From /usr/local/lib/python3.7/site-packages/tensorflow/python/ops/math_ops.py:3066: to_int32 (from tensorflow.python.ops.math_ops) is deprecated and will be removed in a future version.\n",
      "Instructions for updating:\n",
      "Use tf.cast instead.\n",
      "Epoch 1/100\n",
      "455/455 [==============================] - 1s 1ms/step - loss: 0.5091 - acc: 0.8835\n",
      "Epoch 2/100\n",
      "455/455 [==============================] - 0s 779us/step - loss: 0.1468 - acc: 0.9692\n",
      "Epoch 3/100\n",
      "455/455 [==============================] - 0s 749us/step - loss: 0.0994 - acc: 0.9736\n",
      "Epoch 4/100\n",
      "455/455 [==============================] - 0s 751us/step - loss: 0.0824 - acc: 0.9824\n",
      "Epoch 5/100\n",
      "455/455 [==============================] - 0s 756us/step - loss: 0.0893 - acc: 0.9868\n",
      "Epoch 6/100\n",
      "455/455 [==============================] - 0s 724us/step - loss: 0.1038 - acc: 0.9846\n",
      "Epoch 7/100\n",
      "455/455 [==============================] - 0s 736us/step - loss: 0.0926 - acc: 0.9890\n",
      "Epoch 8/100\n",
      "455/455 [==============================] - 0s 755us/step - loss: 0.0988 - acc: 0.9868\n",
      "Epoch 9/100\n",
      "455/455 [==============================] - 0s 732us/step - loss: 0.0998 - acc: 0.9890\n",
      "Epoch 10/100\n",
      "455/455 [==============================] - 0s 735us/step - loss: 0.0986 - acc: 0.9890\n",
      "Epoch 11/100\n",
      "455/455 [==============================] - 0s 798us/step - loss: 0.0950 - acc: 0.9890\n",
      "Epoch 12/100\n",
      "455/455 [==============================] - 0s 742us/step - loss: 0.0963 - acc: 0.9890\n",
      "Epoch 13/100\n",
      "455/455 [==============================] - 0s 741us/step - loss: 0.0975 - acc: 0.9890\n",
      "Epoch 14/100\n",
      "455/455 [==============================] - 0s 933us/step - loss: 0.0893 - acc: 0.9868\n",
      "Epoch 15/100\n",
      "455/455 [==============================] - 0s 743us/step - loss: 0.0805 - acc: 0.9890\n",
      "Epoch 16/100\n",
      "455/455 [==============================] - 0s 759us/step - loss: 0.0842 - acc: 0.9912\n",
      "Epoch 17/100\n",
      "455/455 [==============================] - 0s 710us/step - loss: 0.0817 - acc: 0.9912\n",
      "Epoch 18/100\n",
      "455/455 [==============================] - 0s 784us/step - loss: 0.0881 - acc: 0.9868\n",
      "Epoch 19/100\n",
      "455/455 [==============================] - 0s 746us/step - loss: 0.0911 - acc: 0.9890\n",
      "Epoch 20/100\n",
      "455/455 [==============================] - 0s 761us/step - loss: 0.0711 - acc: 0.9912\n",
      "Epoch 21/100\n",
      "455/455 [==============================] - 0s 731us/step - loss: 0.0784 - acc: 0.9890\n",
      "Epoch 22/100\n",
      "455/455 [==============================] - 0s 737us/step - loss: 0.0789 - acc: 0.9912\n",
      "Epoch 23/100\n",
      "455/455 [==============================] - 0s 727us/step - loss: 0.0704 - acc: 0.9868\n",
      "Epoch 24/100\n",
      "455/455 [==============================] - 0s 721us/step - loss: 0.0856 - acc: 0.9868\n",
      "Epoch 25/100\n",
      "455/455 [==============================] - 0s 756us/step - loss: 0.0683 - acc: 0.9890\n",
      "Epoch 26/100\n",
      "455/455 [==============================] - 0s 731us/step - loss: 0.0685 - acc: 0.9890\n",
      "Epoch 27/100\n",
      "455/455 [==============================] - 0s 727us/step - loss: 0.0766 - acc: 0.9890\n",
      "Epoch 28/100\n",
      "455/455 [==============================] - 0s 737us/step - loss: 0.0618 - acc: 0.9912\n",
      "Epoch 29/100\n",
      "455/455 [==============================] - 0s 725us/step - loss: 0.0904 - acc: 0.9846\n",
      "Epoch 30/100\n",
      "455/455 [==============================] - 0s 735us/step - loss: 0.0736 - acc: 0.9890\n",
      "Epoch 31/100\n",
      "455/455 [==============================] - 0s 763us/step - loss: 0.0694 - acc: 0.9890\n",
      "Epoch 32/100\n",
      "455/455 [==============================] - 0s 749us/step - loss: 0.0761 - acc: 0.9890\n",
      "Epoch 33/100\n",
      "455/455 [==============================] - 0s 748us/step - loss: 0.0788 - acc: 0.9890\n",
      "Epoch 34/100\n",
      "455/455 [==============================] - 0s 723us/step - loss: 0.0775 - acc: 0.9890\n",
      "Epoch 35/100\n",
      "455/455 [==============================] - 0s 731us/step - loss: 0.0906 - acc: 0.9890\n",
      "Epoch 36/100\n",
      "455/455 [==============================] - 0s 741us/step - loss: 0.0806 - acc: 0.9890\n",
      "Epoch 37/100\n",
      "455/455 [==============================] - 0s 728us/step - loss: 0.0723 - acc: 0.9890\n",
      "Epoch 38/100\n",
      "455/455 [==============================] - 0s 728us/step - loss: 0.0788 - acc: 0.9890\n",
      "Epoch 39/100\n",
      "455/455 [==============================] - 0s 728us/step - loss: 0.0616 - acc: 0.9912\n",
      "Epoch 40/100\n",
      "455/455 [==============================] - 0s 727us/step - loss: 0.0650 - acc: 0.9912\n",
      "Epoch 41/100\n",
      "455/455 [==============================] - 0s 773us/step - loss: 0.0698 - acc: 0.9890\n",
      "Epoch 42/100\n",
      "455/455 [==============================] - 0s 741us/step - loss: 0.0810 - acc: 0.9890\n",
      "Epoch 43/100\n",
      "455/455 [==============================] - 0s 731us/step - loss: 0.0854 - acc: 0.9890\n",
      "Epoch 44/100\n",
      "455/455 [==============================] - 0s 731us/step - loss: 0.0754 - acc: 0.9890\n",
      "Epoch 45/100\n",
      "455/455 [==============================] - 0s 778us/step - loss: 0.0764 - acc: 0.9890\n",
      "Epoch 46/100\n",
      "455/455 [==============================] - 0s 771us/step - loss: 0.0668 - acc: 0.9912\n",
      "Epoch 47/100\n",
      "455/455 [==============================] - 0s 801us/step - loss: 0.0735 - acc: 0.9890\n",
      "Epoch 48/100\n",
      "455/455 [==============================] - 0s 797us/step - loss: 0.0604 - acc: 0.9912\n",
      "Epoch 49/100\n",
      "455/455 [==============================] - 0s 756us/step - loss: 0.0601 - acc: 0.9890\n",
      "Epoch 50/100\n",
      "455/455 [==============================] - 0s 737us/step - loss: 0.0526 - acc: 0.9912\n",
      "Epoch 51/100\n",
      "455/455 [==============================] - 0s 728us/step - loss: 0.0622 - acc: 0.9912\n",
      "Epoch 52/100\n",
      "455/455 [==============================] - 0s 704us/step - loss: 0.0568 - acc: 0.9912\n",
      "Epoch 53/100\n",
      "455/455 [==============================] - 0s 708us/step - loss: 0.0810 - acc: 0.9912\n",
      "Epoch 54/100\n",
      "455/455 [==============================] - 0s 764us/step - loss: 0.0652 - acc: 0.9912\n",
      "Epoch 55/100\n",
      "455/455 [==============================] - 0s 811us/step - loss: 0.0578 - acc: 0.9912\n",
      "Epoch 56/100\n",
      "455/455 [==============================] - 0s 777us/step - loss: 0.0520 - acc: 0.9912\n",
      "Epoch 57/100\n",
      "455/455 [==============================] - 0s 746us/step - loss: 0.0801 - acc: 0.9912\n",
      "Epoch 58/100\n",
      "455/455 [==============================] - 0s 737us/step - loss: 0.0681 - acc: 0.9912\n",
      "Epoch 59/100\n",
      "455/455 [==============================] - 0s 771us/step - loss: 0.0662 - acc: 0.9890\n",
      "Epoch 60/100\n",
      "455/455 [==============================] - 0s 774us/step - loss: 0.0462 - acc: 0.9934\n",
      "Epoch 61/100\n",
      "455/455 [==============================] - 0s 816us/step - loss: 0.0630 - acc: 0.9912\n",
      "Epoch 62/100\n",
      "455/455 [==============================] - 0s 759us/step - loss: 0.0608 - acc: 0.9890\n",
      "Epoch 63/100\n",
      "455/455 [==============================] - 0s 747us/step - loss: 0.0440 - acc: 0.9912\n",
      "Epoch 64/100\n",
      "455/455 [==============================] - 0s 728us/step - loss: 0.0514 - acc: 0.9912\n",
      "Epoch 65/100\n",
      "455/455 [==============================] - 0s 728us/step - loss: 0.0473 - acc: 0.9912\n",
      "Epoch 66/100\n",
      "455/455 [==============================] - 0s 744us/step - loss: 0.0473 - acc: 0.9934\n",
      "Epoch 67/100\n",
      "455/455 [==============================] - 0s 740us/step - loss: 0.0356 - acc: 0.9956\n",
      "Epoch 68/100\n",
      "455/455 [==============================] - 0s 757us/step - loss: 0.0617 - acc: 0.9912\n",
      "Epoch 69/100\n",
      "455/455 [==============================] - 0s 735us/step - loss: 0.0372 - acc: 0.9934\n",
      "Epoch 70/100\n",
      "455/455 [==============================] - 0s 759us/step - loss: 0.0366 - acc: 0.9956\n",
      "Epoch 71/100\n",
      "455/455 [==============================] - 0s 752us/step - loss: 0.0527 - acc: 0.9934\n",
      "Epoch 72/100\n",
      "455/455 [==============================] - 0s 738us/step - loss: 0.0455 - acc: 0.9934\n",
      "Epoch 73/100\n",
      "455/455 [==============================] - 0s 742us/step - loss: 0.0387 - acc: 0.9956\n",
      "Epoch 74/100\n",
      "455/455 [==============================] - 0s 744us/step - loss: 0.0354 - acc: 0.9934\n",
      "Epoch 75/100\n",
      "455/455 [==============================] - 0s 741us/step - loss: 0.0345 - acc: 0.9956\n",
      "Epoch 76/100\n",
      "455/455 [==============================] - 0s 772us/step - loss: 0.0366 - acc: 0.9956\n",
      "Epoch 77/100\n",
      "455/455 [==============================] - 0s 817us/step - loss: 0.0386 - acc: 0.9956\n",
      "Epoch 78/100\n",
      "455/455 [==============================] - 0s 838us/step - loss: 0.0217 - acc: 0.9978\n",
      "Epoch 79/100\n",
      "455/455 [==============================] - 0s 744us/step - loss: 0.0487 - acc: 0.9934\n",
      "Epoch 80/100\n",
      "455/455 [==============================] - 0s 747us/step - loss: 0.0362 - acc: 0.9956\n",
      "Epoch 81/100\n"
     ]
    },
    {
     "name": "stdout",
     "output_type": "stream",
     "text": [
      "455/455 [==============================] - 0s 718us/step - loss: 0.0382 - acc: 0.9956\n",
      "Epoch 82/100\n",
      "455/455 [==============================] - 0s 737us/step - loss: 0.0295 - acc: 0.9956\n",
      "Epoch 83/100\n",
      "455/455 [==============================] - 0s 748us/step - loss: 0.0367 - acc: 0.9956\n",
      "Epoch 84/100\n",
      "455/455 [==============================] - 0s 726us/step - loss: 0.0464 - acc: 0.9956\n",
      "Epoch 85/100\n",
      "455/455 [==============================] - 0s 741us/step - loss: 0.0334 - acc: 0.9956\n",
      "Epoch 86/100\n",
      "455/455 [==============================] - 0s 719us/step - loss: 0.0440 - acc: 0.9956\n",
      "Epoch 87/100\n",
      "455/455 [==============================] - 0s 763us/step - loss: 0.0450 - acc: 0.9956\n",
      "Epoch 88/100\n",
      "455/455 [==============================] - 0s 793us/step - loss: 0.0315 - acc: 0.9956\n",
      "Epoch 89/100\n",
      "455/455 [==============================] - 0s 801us/step - loss: 0.0322 - acc: 0.9956: 0s - loss: 0.0467 - acc: 0.9\n",
      "Epoch 90/100\n",
      "455/455 [==============================] - 0s 748us/step - loss: 0.0283 - acc: 0.9956\n",
      "Epoch 91/100\n",
      "455/455 [==============================] - 0s 725us/step - loss: 0.0398 - acc: 0.9956\n",
      "Epoch 92/100\n",
      "455/455 [==============================] - 0s 740us/step - loss: 0.0247 - acc: 0.9978\n",
      "Epoch 93/100\n",
      "455/455 [==============================] - 0s 744us/step - loss: 0.0453 - acc: 0.9956\n",
      "Epoch 94/100\n",
      "455/455 [==============================] - 0s 741us/step - loss: 0.0563 - acc: 0.9934\n",
      "Epoch 95/100\n",
      "455/455 [==============================] - 0s 724us/step - loss: 0.0376 - acc: 0.9956\n",
      "Epoch 96/100\n",
      "455/455 [==============================] - 0s 757us/step - loss: 0.0296 - acc: 0.9956\n",
      "Epoch 97/100\n",
      "455/455 [==============================] - 0s 735us/step - loss: 0.0243 - acc: 0.9978\n",
      "Epoch 98/100\n",
      "455/455 [==============================] - 0s 744us/step - loss: 0.0247 - acc: 0.9978\n",
      "Epoch 99/100\n",
      "455/455 [==============================] - 0s 755us/step - loss: 0.0225 - acc: 0.9978\n",
      "Epoch 100/100\n",
      "455/455 [==============================] - 0s 746us/step - loss: 0.0556 - acc: 0.9934\n"
     ]
    }
   ],
   "source": [
    "classifier.fit(X_train, y_train, batch_size = 1, epochs = 100)\n",
    "classifier.save('model_4.h5')"
   ]
  }
 ],
 "metadata": {
  "kernelspec": {
   "display_name": "Python 3",
   "language": "python",
   "name": "python3"
  },
  "language_info": {
   "codemirror_mode": {
    "name": "ipython",
    "version": 3
   },
   "file_extension": ".py",
   "mimetype": "text/x-python",
   "name": "python",
   "nbconvert_exporter": "python",
   "pygments_lexer": "ipython3",
   "version": "3.7.3"
  }
 },
 "nbformat": 4,
 "nbformat_minor": 2
}
